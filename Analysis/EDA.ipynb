{
 "cells": [
  {
   "cell_type": "code",
   "execution_count": 496,
   "id": "cf20b6ff",
   "metadata": {},
   "outputs": [],
   "source": [
    "#Goals For Data Analysis\n",
    " # Which players offer the best \"bang for your buck\"\n",
    "  # Defensive\n",
    "  # Offensive\n",
    "  # Overall \n",
    " # Which players are getting overpaid\n",
    " # How are the top players paid, relative to their contributions\n",
    " # What rookies or minimum salary players are doing the best. Could give insight into valuable prospects. \n",
    "\n",
    " # Which teams do the best job of budgeting their salaries in order to get wins. Win-share or team EPM per $\n",
    "  # Look at top playoff teams and make comparisons. Need indivudal datasets for each one. \n",
    "\n",
    " # Positional differences in salary. PG vs C ect. How does positional flexibility affect salary. "
   ]
  },
  {
   "cell_type": "code",
   "execution_count": 497,
   "id": "39bc89b8",
   "metadata": {},
   "outputs": [],
   "source": [
    "#For importing data. Import 3 seperate datasets from basektball reference.com. All are from regular season 24-25\n",
    " ## Dataset 1: Per Game statistics\n",
    " ## Dataset 2: Advanced statistics\n",
    " ## Dataset 3: Adjusted Shooting\n",
    "\n",
    "#Finally find player salary data. \n",
    " ## There is a kaggle dataset that is complete with all important metrics and salary could use this\n",
    " ## 24-25 Nba Player contract data is also on basetkball reference. \n",
    "  ## There are less contracts than players in the main datasets. Could be confusing to merge.\n",
    "\n",
    "#Potentially could look at team success as an additionall metric\n",
    "\n",
    "#Remove Duplicate names and clean data. \n",
    " ## Filter for those who have played over x games. (41?) \n",
    "#Take all datasets, sort alphabetically and merge to remove overlapped columns and create ultimate dataset. "
   ]
  },
  {
   "cell_type": "code",
   "execution_count": 498,
   "id": "9f336f14",
   "metadata": {},
   "outputs": [],
   "source": [
    "#Cleaning for all datasets\n",
    " #Remove duplicates. For example Luka Doncic(DAL) LUka Doncic (2TM) and Luke Doncic(LAL). \n",
    "  #Pick one team to hold in the dataset rather than 2TM. \n",
    " #Remove League Average totals, Remove Awards and Player-additional columns\n",
    " #Convert int values such as Age, Games Played and Games Started into ints. Truncate. \n",
    " #After removing duplicates, can also remove Rk as it matches with index excluding duplicates. Doesnt give value if order changes\n",
    " "
   ]
  },
  {
   "cell_type": "code",
   "execution_count": 499,
   "id": "a98e392d",
   "metadata": {},
   "outputs": [],
   "source": [
    "import pandas as pd\n",
    "import matplotlib as plt\n",
    "import seaborn as sns"
   ]
  },
  {
   "cell_type": "code",
   "execution_count": 500,
   "id": "27dc9167",
   "metadata": {},
   "outputs": [],
   "source": [
    "#PG = Per Game stats, Advanced = Advanced Statistics/metrics, AS = Adjusted Shooting stats\n",
    "PlayerPG = pd.read_csv('../Player_Data/Player_PG.csv')\n",
    "PlayerAdvanced = pd.read_csv('../Player_Data/Player_Advanced.csv')\n",
    "PlayerAS = pd.read_csv('../Player_Data/Player_AS.csv')\n",
    "PlayerSalary = pd.read_csv('../Player_Data/Player_Salary.csv')\n",
    "\n",
    "pd.set_option('display.max_columns', None)"
   ]
  },
  {
   "cell_type": "code",
   "execution_count": 501,
   "id": "f851cc92",
   "metadata": {},
   "outputs": [],
   "source": [
    "\n",
    "#Removes duplicate values and keeps the higher averages of traded players. \n",
    "PlayerPG = PlayerPG.drop_duplicates(subset='Player')\n",
    "PlayerAdvanced = PlayerAdvanced.drop_duplicates(subset='Player')\n",
    "PlayerAS = PlayerAS.drop_duplicates(subset='Player')\n",
    "PlayerSalary = PlayerSalary.drop_duplicates(subset='Player')\n",
    "\n"
   ]
  },
  {
   "cell_type": "code",
   "execution_count": 502,
   "id": "7efa9ef7",
   "metadata": {},
   "outputs": [],
   "source": [
    "#Removes uneccessary columns for each dataframe. Set index to the Rank, and fill na values with 0, drops players that have played less than 40 games\n",
    "PlayerPG = PlayerPG.drop(['Awards', 'Player-additional'], axis = 1)\n",
    "PlayerPG = PlayerPG.set_index(keys = 'Rk')\n",
    "PlayerPG = PlayerPG.fillna(value= 0)\n",
    "PlayerPG = PlayerPG[PlayerPG['G'] >= 40]\n",
    "\n",
    "PlayerAdvanced = PlayerAdvanced.drop(['Awards', 'Player-additional'], axis = 1)\n",
    "PlayerAdvanced = PlayerAdvanced.set_index(keys = 'Rk')\n",
    "PlayerAdvanced = PlayerAdvanced.fillna(value= 0)\n",
    "PlayerAdvanced = PlayerAdvanced[PlayerAdvanced['G'] >= 40]\n",
    "\n",
    "PlayerAS = PlayerAS.drop(['Awards', '-9999'], axis = 1)\n",
    "PlayerAS = PlayerAS.set_index(keys = 'Rk')\n",
    "PlayerAS = PlayerAS.fillna(value= 0)\n",
    "PlayerAS = PlayerAS[PlayerAS['G'] >= 40]"
   ]
  },
  {
   "cell_type": "code",
   "execution_count": 503,
   "id": "af2249c5",
   "metadata": {},
   "outputs": [],
   "source": [
    "#Only Looks at 24-25 Salary\n",
    "PlayerSalary = PlayerSalary.drop(PlayerSalary.columns[4:],axis = 1)\n",
    "PlayerSalary = PlayerSalary.rename(columns={'2024-25':'YearSalary'})"
   ]
  },
  {
   "cell_type": "code",
   "execution_count": 504,
   "id": "3932dc0c",
   "metadata": {},
   "outputs": [],
   "source": [
    "#Merges the salary dataframes with stats dataframes to be aple to compare player values\n",
    "PGSal = PlayerPG.merge(PlayerSalary, on = 'Player', how = 'left').dropna(subset= 'YearSalary')\n",
    "AdvancedSal = PlayerAdvanced.merge(PlayerSalary, on = 'Player', how = 'left').dropna(subset = 'YearSalary')\n",
    "ASSal = PlayerAS.merge(PlayerSalary, on = 'Player', how = 'left').dropna(subset = 'YearSalary')"
   ]
  },
  {
   "cell_type": "code",
   "execution_count": null,
   "id": "4b3d80f7",
   "metadata": {},
   "outputs": [],
   "source": [
    "#Save Final Dataframes into csv files and put into folders. "
   ]
  }
 ],
 "metadata": {
  "kernelspec": {
   "display_name": "python_course",
   "language": "python",
   "name": "python3"
  },
  "language_info": {
   "codemirror_mode": {
    "name": "ipython",
    "version": 3
   },
   "file_extension": ".py",
   "mimetype": "text/x-python",
   "name": "python",
   "nbconvert_exporter": "python",
   "pygments_lexer": "ipython3",
   "version": "3.11.9"
  }
 },
 "nbformat": 4,
 "nbformat_minor": 5
}
