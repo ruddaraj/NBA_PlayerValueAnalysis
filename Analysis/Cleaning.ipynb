{
 "cells": [
  {
   "cell_type": "code",
   "execution_count": 1,
   "id": "a98e392d",
   "metadata": {},
   "outputs": [],
   "source": [
    "import pandas as pd"
   ]
  },
  {
   "cell_type": "code",
   "execution_count": 2,
   "id": "27dc9167",
   "metadata": {},
   "outputs": [],
   "source": [
    "#PG = Per Game stats, Advanced = Advanced Statistics/metrics, AS = Adjusted Shooting stats\n",
    "PlayerPG = pd.read_csv('../Player_Data/Original_Data/Player_PG.csv')\n",
    "PlayerAdvanced = pd.read_csv('../Player_Data/Original_Data/Player_Advanced.csv')\n",
    "PlayerAS = pd.read_csv('../Player_Data/Original_Data/Player_AS.csv')\n",
    "PlayerSalary = pd.read_csv('../Player_Data/Original_Data/Player_Salary.csv')\n",
    "\n",
    "pd.set_option('display.max_columns', None)"
   ]
  },
  {
   "cell_type": "code",
   "execution_count": 3,
   "id": "f851cc92",
   "metadata": {},
   "outputs": [],
   "source": [
    "\n",
    "#Removes duplicate values and keeps the higher averages of traded players. \n",
    "PlayerPG = PlayerPG.drop_duplicates(subset='Player')\n",
    "PlayerAdvanced = PlayerAdvanced.drop_duplicates(subset='Player')\n",
    "PlayerAS = PlayerAS.drop_duplicates(subset='Player')\n",
    "PlayerSalary = PlayerSalary.drop_duplicates(subset='Player')\n",
    "\n"
   ]
  },
  {
   "cell_type": "code",
   "execution_count": 4,
   "id": "7efa9ef7",
   "metadata": {},
   "outputs": [],
   "source": [
    "#Removes uneccessary columns for each dataframe and fill na values with 0. drops players that have played less than 40 games\n",
    "PlayerPG = PlayerPG.drop(['Awards', 'Player-additional'], axis = 1)\n",
    "PlayerPG = PlayerPG.set_index(keys = 'Rk')\n",
    "PlayerPG = PlayerPG.fillna(value= 0)\n",
    "PlayerPG = PlayerPG[PlayerPG['G'] >= 40]\n",
    "\n",
    "PlayerAdvanced = PlayerAdvanced.drop(['Awards', 'Player-additional'], axis = 1)\n",
    "PlayerAdvanced = PlayerAdvanced.set_index(keys = 'Rk')\n",
    "PlayerAdvanced = PlayerAdvanced.fillna(value= 0)\n",
    "PlayerAdvanced = PlayerAdvanced[PlayerAdvanced['G'] >= 40]\n",
    "\n",
    "PlayerAS = PlayerAS.drop(['Awards', '-9999'], axis = 1)\n",
    "PlayerAS = PlayerAS.set_index(keys = 'Rk')\n",
    "PlayerAS = PlayerAS.fillna(value= 0)\n",
    "PlayerAS = PlayerAS[PlayerAS['G'] >= 40]"
   ]
  },
  {
   "cell_type": "code",
   "execution_count": 5,
   "id": "af2249c5",
   "metadata": {},
   "outputs": [],
   "source": [
    "#Only Looks at 24-25 Salary and converts to an int\n",
    "PlayerSalary = PlayerSalary.drop(PlayerSalary.columns[4:],axis = 1)\n",
    "PlayerSalary = PlayerSalary.drop(['Rk','Tm'],axis = 1)\n",
    "PlayerSalary = PlayerSalary.rename(columns={'2024-25':'YearSalary'})\n",
    "PlayerSalary['YearSalary'] = PlayerSalary['YearSalary'].apply(lambda x: int(x[1:]))"
   ]
  },
  {
   "cell_type": "code",
   "execution_count": 6,
   "id": "3932dc0c",
   "metadata": {},
   "outputs": [],
   "source": [
    "#Merges the salary dataframes with stats dataframes to be aple to compare player values\n",
    "PGSal = PlayerPG.merge(PlayerSalary, on = 'Player', how = 'left').dropna(subset= 'YearSalary').reset_index(drop = True)\n",
    "AdvancedSal = PlayerAdvanced.merge(PlayerSalary, on = 'Player', how = 'left').dropna(subset = 'YearSalary').reset_index(drop = True)\n",
    "ASSal = PlayerAS.merge(PlayerSalary, on = 'Player', how = 'left').dropna(subset = 'YearSalary').reset_index(drop = True)"
   ]
  },
  {
   "cell_type": "code",
   "execution_count": 7,
   "id": "4b3d80f7",
   "metadata": {},
   "outputs": [],
   "source": [
    "#Save Final Dataframes into csv files and put into folders. \n",
    "PGSal.to_csv('../Player_Data/Cleaned_Player_Data/Cleaned_PG_Sal.csv')\n",
    "AdvancedSal.to_csv('../Player_Data/Cleaned_Player_Data/Cleaned_Advanced_Sal.csv')\n",
    "ASSal.to_csv('../Player_Data/Cleaned_Player_Data/Cleaned_AS_Sal.csv')"
   ]
  }
 ],
 "metadata": {
  "kernelspec": {
   "display_name": "python_course",
   "language": "python",
   "name": "python3"
  },
  "language_info": {
   "codemirror_mode": {
    "name": "ipython",
    "version": 3
   },
   "file_extension": ".py",
   "mimetype": "text/x-python",
   "name": "python",
   "nbconvert_exporter": "python",
   "pygments_lexer": "ipython3",
   "version": "3.11.9"
  }
 },
 "nbformat": 4,
 "nbformat_minor": 5
}
